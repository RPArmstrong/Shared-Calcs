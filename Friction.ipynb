{
 "cells": [
  {
   "cell_type": "markdown",
   "id": "dd7ef475-e24b-4d47-9cf1-e1a1551f1a79",
   "metadata": {},
   "source": [
    "# Pipe Friction Loss Calc"
   ]
  },
  {
   "cell_type": "markdown",
   "id": "9b26809a-2efd-4a20-ab8b-b7faa1e964ad",
   "metadata": {},
   "source": [
    "### Import Libraries, Format, and Set Working Directory"
   ]
  },
  {
   "cell_type": "code",
   "execution_count": 2,
   "id": "b101989c-81db-40fa-8640-e24ecd4ae150",
   "metadata": {},
   "outputs": [],
   "source": [
    "import numpy as np\n",
    "import pandas as pd\n",
    "import sys\n",
    "import os\n",
    "import xlwings as xw\n",
    "import matplotlib as plt\n",
    "import pint\n",
    "import openpyxl\n",
    "from openpyxl import load_workbook"
   ]
  },
  {
   "cell_type": "code",
   "execution_count": 3,
   "id": "3617616f-8343-46cf-8c62-779fcd41c463",
   "metadata": {},
   "outputs": [],
   "source": [
    "pd.set_option('display.max_columns', None)\n",
    "pd.set_option('display.max_rows', None)\n",
    "os.chdir(r\"E:\\Python\\Calculators\\Pipe Calc\")"
   ]
  },
  {
   "cell_type": "markdown",
   "id": "fed457da-eed8-424a-ac6a-794ac7833768",
   "metadata": {},
   "source": [
    "### Load Pipe and Fitting Data"
   ]
  },
  {
   "cell_type": "code",
   "execution_count": 4,
   "id": "d79a9e99-5d49-444a-98fc-86470c82b04b",
   "metadata": {},
   "outputs": [
    {
     "name": "stdout",
     "output_type": "stream",
     "text": [
      "          STEEL SCH 40  COPPER TYPE L\n",
      "Nom Diam                             \n",
      "0.50             0.607          0.545\n",
      "0.75             0.824          0.785\n",
      "1.00             1.049          1.025\n",
      "1.25             1.380          1.265\n",
      "1.50             1.610          1.505\n",
      "2.00             2.067          1.985\n",
      "2.50             2.469          2.465\n",
      "3.00             3.068          2.945\n",
      "3.50             3.548          3.425\n",
      "4.00             4.026          3.905\n",
      "4.50             4.506            NaN\n",
      "5.00             5.047          4.875\n",
      "6.00             6.065          5.845\n",
      "7.00             7.023            NaN\n",
      "8.00             7.981          7.725\n",
      "9.00             8.941            NaN\n",
      "10.00           10.020          9.625\n",
      "12.00           12.000         11.565\n",
      "14.00           13.250            NaN\n",
      "          90° Standard Elbow 90° Long Radius Elbow  45° Elbow  Return Bend  \\\n",
      "Nom Diam                                                                     \n",
      "0.375                   2.50                    –        0.38         2.50   \n",
      "0.500                   2.10                    –        0.37         2.10   \n",
      "0.750                   1.70                  0.92       0.35         1.70   \n",
      "1.000                   1.50                  0.78       0.34         1.50   \n",
      "1.250                   1.30                  0.65       0.33         1.30   \n",
      "1.500                   1.20                  0.54       0.32         1.20   \n",
      "2.000                   1.00                  0.42       0.31         1.00   \n",
      "2.500                   0.85                  0.35       0.30         0.85   \n",
      "3.000                   0.80                  0.31       0.29         0.80   \n",
      "4.000                   0.70                  0.24       0.28         0.70   \n",
      "\n",
      "          Tee Line  Tee Branch  Globe Valve  Gate Valve Angle Valve  \\\n",
      "Nom Diam                                                              \n",
      "0.375          0.9         2.7         20.0        0.40          –    \n",
      "0.500          0.9         2.4         14.0        0.33          –    \n",
      "0.750          0.9         2.1         10.0        0.28         6.1   \n",
      "1.000          0.9         1.8          9.0        0.24         4.6   \n",
      "1.250          0.9         1.7          8.5        0.22         3.6   \n",
      "1.500          0.9         1.6          8.0        0.19         2.9   \n",
      "2.000          0.9         1.4          7.0        0.17         2.1   \n",
      "2.500          0.9         1.3          6.5        0.16         1.6   \n",
      "3.000          0.9         1.2          6.0        0.14         1.3   \n",
      "4.000          0.9         1.1          5.7        0.12           1   \n",
      "\n",
      "          Swing Check Valve  Bell Mouth Inlet  Square Inlet  Projected Inlet  \n",
      "Nom Diam                                                                      \n",
      "0.375                   8.0              0.05           0.5                1  \n",
      "0.500                   5.5              0.05           0.5                1  \n",
      "0.750                   3.7              0.05           0.5                1  \n",
      "1.000                   3.0              0.05           0.5                1  \n",
      "1.250                   2.7              0.05           0.5                1  \n",
      "1.500                   2.5              0.05           0.5                1  \n",
      "2.000                   2.3              0.05           0.5                1  \n",
      "2.500                   2.2              0.05           0.5                1  \n",
      "3.000                   2.1              0.05           0.5                1  \n",
      "4.000                   2.0              0.05           0.5                1  \n",
      "          90° Standard Elbow  90° Long Radius Elbow  45° Long Radius Elbow  \\\n",
      "Nom Diam                                                                     \n",
      "1.00                    0.43                   0.41                   0.22   \n",
      "1.25                    0.41                   0.37                   0.22   \n",
      "1.50                    0.40                   0.35                   0.21   \n",
      "2.00                    0.38                   0.30                   0.20   \n",
      "2.50                    0.35                   0.28                   0.19   \n",
      "3.00                    0.34                   0.25                   0.18   \n",
      "4.00                    0.31                   0.22                   0.18   \n",
      "6.00                    0.29                   0.18                   0.17   \n",
      "8.00                    0.27                   0.16                   0.17   \n",
      "10.00                   0.25                   0.14                   0.16   \n",
      "12.00                   0.24                   0.13                   0.16   \n",
      "\n",
      "          Return Bend Standard  Return Bend Long Standard  Tee Line  \\\n",
      "Nom Diam                                                              \n",
      "1.00                      0.43                       0.43      0.26   \n",
      "1.25                      0.41                       0.38      0.25   \n",
      "1.50                      0.40                       0.35      0.23   \n",
      "2.00                      0.38                       0.30      0.20   \n",
      "2.50                      0.35                       0.27      0.18   \n",
      "3.00                      0.34                       0.25      0.17   \n",
      "4.00                      0.31                       0.22      0.15   \n",
      "6.00                      0.29                       0.18      0.12   \n",
      "8.00                      0.27                       0.15      0.10   \n",
      "10.00                     0.25                       0.14      0.09   \n",
      "12.00                     0.24                       0.13      0.08   \n",
      "\n",
      "          Tee Branch  Globe Valve Gate Valve  Angle Valve  Swing Check Valve  \n",
      "Nom Diam                                                                      \n",
      "1.00            1.00         13.0         –           4.8                  2  \n",
      "1.25            0.95         12.0         –           3.7                  2  \n",
      "1.50            0.90         10.0         –           3.0                  2  \n",
      "2.00            0.84          9.0       0.34          2.5                  2  \n",
      "2.50            0.79          8.0       0.27          2.3                  2  \n",
      "3.00            0.76          7.0       0.22          2.2                  2  \n",
      "4.00            0.70          6.5       0.16          2.1                  2  \n",
      "6.00            0.62          6.0        0.1          2.1                  2  \n",
      "8.00            0.58          5.7       0.08          2.1                  2  \n",
      "10.00           0.53          5.7       0.06          2.1                  2  \n",
      "12.00           0.50          5.7       0.05          2.1                  2  \n"
     ]
    }
   ],
   "source": [
    "df_diam=pd.read_excel('Fittings and Diam.xlsx',sheet_name='TYPE', index_col=[0], header=[0])\n",
    "df_diam.rename_axis(index=[\"Nom Diam\"],inplace=True)\n",
    "df_fitting_thrd=pd.read_excel('Fittings and Diam.xlsx',sheet_name='THREAD', index_col=[0], header=[0])\n",
    "df_fitting_thrd.rename_axis(index=[\"Nom Diam\"], inplace=True)\n",
    "df_fitting_flngd=pd.read_excel('Fittings and Diam.xlsx',sheet_name='FLANGE OR WELD', index_col=[0], header=[0])\n",
    "df_fitting_flngd.rename_axis(index=[\"Nom Diam\"], inplace=True)\n",
    "print(df_diam)\n",
    "df_spec_rough=pd.read_excel('Fittings and Diam.xlsx',sheet_name='ROUGH', index_col=[0], header=[0])\n",
    "df_spec_rough\n",
    "print(df_fitting_thrd)\n",
    "print(df_fitting_flngd)"
   ]
  },
  {
   "cell_type": "markdown",
   "id": "6f8c6022-f8e1-40ca-a75e-a9ed546169f8",
   "metadata": {},
   "source": [
    "### User Inputs"
   ]
  },
  {
   "cell_type": "code",
   "execution_count": 5,
   "id": "e509e7a2-ea0a-4986-92ef-b2d78d575443",
   "metadata": {},
   "outputs": [
    {
     "name": "stdin",
     "output_type": "stream",
     "text": [
      "Enter fluid flowrate [GPM] <<=   12000\n",
      "Enter nominal pipe diameter (decimal size) <<=   3\n",
      "Enter pipe material type [c=copper, s=steel p=PVC] <<=   s\n",
      "Enter approximate fluid temperature <<=   90\n",
      "Enter pipe length [ft] <<=   100\n",
      "Type of pipe fittings? [t=threaded, f=flanged or welded] <==   t\n"
     ]
    }
   ],
   "source": [
    "Q=float(input('Enter fluid flowrate [GPM] <<=  '))\n",
    "diam_nom=float(input('Enter nominal pipe diameter (decimal size) <<=  '))\n",
    "pipe_matl=str(input('Enter pipe material type [c=copper, s=steel p=PVC] <<=  '))\n",
    "FluidTemp=float(input('Enter approximate fluid temperature <<=  '))\n",
    "pipe_lngth=float(input('Enter pipe length [ft] <<=  ') or '100')\n",
    "fitting_type=str(input('Type of pipe fittings? [t=threaded, f=flanged or welded] <==  ') or 'f')"
   ]
  },
  {
   "cell_type": "markdown",
   "id": "f6beb742-27d1-4165-86dc-b4532d15754c",
   "metadata": {},
   "source": [
    "### Determination of Pipe I.D. and Specific Roughness"
   ]
  },
  {
   "cell_type": "code",
   "execution_count": 6,
   "id": "e6aaf028-366e-4418-8f91-466ba71653d3",
   "metadata": {},
   "outputs": [
    {
     "name": "stdout",
     "output_type": "stream",
     "text": [
      "hydralic diameter [in] =>>   3.068\n",
      "Specific Roughness =>>   0.0002\n"
     ]
    }
   ],
   "source": [
    "if pipe_matl=='c' or pipe_matl=='C':\n",
    "    d_hyd=df_diam.loc[diam_nom, 'COPPER TYPE L']\n",
    "    spec_rough=df_spec_rough.loc['COPPER TYPE L']\n",
    "if pipe_matl=='s' or pipe_matl=='S':\n",
    "    d_hyd=df_diam.loc[diam_nom, 'STEEL SCH 40']\n",
    "    spec_rough=float(df_spec_rough.loc['STEEL SCH 40'])\n",
    "\n",
    "print('hydralic diameter [in] =>>  ', d_hyd)\n",
    "print('Specific Roughness =>>  ', spec_rough)"
   ]
  },
  {
   "cell_type": "markdown",
   "id": "0cb739c4-f86e-419d-8f83-5561b6f2c1e3",
   "metadata": {},
   "source": [
    "### Calculate Velocity and Relative Roughness"
   ]
  },
  {
   "cell_type": "code",
   "execution_count": 7,
   "id": "4ce5a31f-5138-4a5c-8d93-b8e71387cef4",
   "metadata": {},
   "outputs": [
    {
     "name": "stdout",
     "output_type": "stream",
     "text": [
      "Velocity [ft/s] =>>   520.15251007583\n",
      "Relative Roughness =>>   0.0007822685788787485\n"
     ]
    }
   ],
   "source": [
    "d_hyd_ft=d_hyd/12\n",
    "V=(0.408*Q)/((d_hyd)**2)\n",
    "print('Velocity [ft/s] =>>  ',V)\n",
    "visc=np.array([[40,0.00001664],[50,0.0000141],[60,0.00001217],[70,0.00001059],[80,0.0000093],[90,0.00000826],[100,0.00000739],[110,0.00000667],[120,0.00000609],[130,0.00000558],[140,0.00000514]])\n",
    "xp=visc[:,0]\n",
    "fp=visc[:,1]\n",
    "visc_k=np.interp(FluidTemp,xp,fp)\n",
    "rel_rough=spec_rough/(d_hyd_ft)\n",
    "print('Relative Roughness =>>  ', rel_rough)"
   ]
  },
  {
   "cell_type": "markdown",
   "id": "20060c7e-5566-44d5-bd5f-fb50bd0b8d9d",
   "metadata": {},
   "source": [
    "### Calculate Reynolds Numer (Now w/ a user defined function)"
   ]
  },
  {
   "cell_type": "code",
   "execution_count": 8,
   "id": "8ae9978a-5f42-4cb9-863c-2a429d3a45cd",
   "metadata": {},
   "outputs": [
    {
     "name": "stdout",
     "output_type": "stream",
     "text": [
      "Reynolds Number =>>   1.61e+07\n"
     ]
    }
   ],
   "source": [
    "def Reynolds(V,d_hyd_ft,visc_k):\n",
    "    Re=V*d_hyd_ft/visc_k\n",
    "    return Re\n",
    "Re=Reynolds(V,d_hyd_ft,visc_k)\n",
    "print('Reynolds Number =>>  ',\"{:,.6}\".format(Re))"
   ]
  },
  {
   "cell_type": "markdown",
   "id": "f13df46c-6e8a-409b-b365-1799c18d0c0d",
   "metadata": {},
   "source": [
    "### Calculate Friction Factor (Now w/ a user defined function)"
   ]
  },
  {
   "cell_type": "code",
   "execution_count": 9,
   "id": "331509f2-02f1-4e6b-8127-b42df7c004d0",
   "metadata": {},
   "outputs": [
    {
     "name": "stdout",
     "output_type": "stream",
     "text": [
      "Friction Factor =>>   0.01851\n"
     ]
    }
   ],
   "source": [
    "def fric_f(Re,rel_rough):\n",
    "    ff=0.25/((np.log10(rel_rough/3.7)+(5.74/(Re**0.9))))**2\n",
    "    return ff\n",
    "ff=fric_f(Re,rel_rough)\n",
    "print('Friction Factor =>>  ',\"{:,.4}\".format(ff))"
   ]
  },
  {
   "cell_type": "markdown",
   "id": "4c3a48f8-c94e-4cd7-a688-9c99af2af419",
   "metadata": {},
   "source": [
    "### Calculate \"Major\" Fiction Loss (Now w/ a user defined function)"
   ]
  },
  {
   "cell_type": "code",
   "execution_count": 15,
   "id": "41eebc35-a332-49b8-b0ff-e7988df0dea0",
   "metadata": {},
   "outputs": [
    {
     "data": {
      "text/plain": [
       "30420.30909360075"
      ]
     },
     "execution_count": 15,
     "metadata": {},
     "output_type": "execute_result"
    }
   ],
   "source": [
    "def Hf_major(fric_f,pipe_lngth,d_hyd_ft,V):\n",
    "    Hf_major=ff*pipe_lngth/(d_hyd_ft)*(V**2/(2*32.2))\n",
    "    return Hf_major\n",
    "dP_major=Hf_major(fric_f,pipe_lngth,d_hyd_ft,V)\n",
    "dP_major"
   ]
  },
  {
   "cell_type": "code",
   "execution_count": 16,
   "id": "308402f6-9eb7-430b-b208-0ee45e56e44a",
   "metadata": {},
   "outputs": [
    {
     "name": "stdout",
     "output_type": "stream",
     "text": [
      "90° Elbows - Short Radius\n"
     ]
    },
    {
     "name": "stdin",
     "output_type": "stream",
     "text": [
      "Enter Number of Fittings from Above :   \n"
     ]
    },
    {
     "name": "stdout",
     "output_type": "stream",
     "text": [
      "90° Elbows - Long Radius\n"
     ]
    },
    {
     "name": "stdin",
     "output_type": "stream",
     "text": [
      "Enter Number of Fittings from Above :   \n"
     ]
    },
    {
     "name": "stdout",
     "output_type": "stream",
     "text": [
      "Butterfly Valves\n"
     ]
    },
    {
     "name": "stdin",
     "output_type": "stream",
     "text": [
      "Enter Number of Fittings from Above :   \n"
     ]
    },
    {
     "name": "stdout",
     "output_type": "stream",
     "text": [
      "Reducers\n"
     ]
    },
    {
     "name": "stdin",
     "output_type": "stream",
     "text": [
      "Enter Number of Fittings from Above :   \n"
     ]
    },
    {
     "name": "stdout",
     "output_type": "stream",
     "text": [
      "Expansions\n"
     ]
    },
    {
     "name": "stdin",
     "output_type": "stream",
     "text": [
      "Enter Number of Fittings from Above :   \n"
     ]
    },
    {
     "name": "stdout",
     "output_type": "stream",
     "text": [
      "Balancing Valves\n"
     ]
    },
    {
     "name": "stdin",
     "output_type": "stream",
     "text": [
      "Enter Number of Fittings from Above :   \n"
     ]
    },
    {
     "name": "stdout",
     "output_type": "stream",
     "text": [
      "Tees - Line Flow\n"
     ]
    },
    {
     "name": "stdin",
     "output_type": "stream",
     "text": [
      "Enter Number of Fittings from Above :   \n"
     ]
    },
    {
     "name": "stdout",
     "output_type": "stream",
     "text": [
      "Tees - Branch Flow\n"
     ]
    },
    {
     "name": "stdin",
     "output_type": "stream",
     "text": [
      "Enter Number of Fittings from Above :   \n"
     ]
    },
    {
     "name": "stdout",
     "output_type": "stream",
     "text": [
      "45° Elbow\n"
     ]
    },
    {
     "name": "stdin",
     "output_type": "stream",
     "text": [
      "Enter Number of Fittings from Above :   \n"
     ]
    },
    {
     "name": "stdout",
     "output_type": "stream",
     "text": [
      "Other\n"
     ]
    },
    {
     "name": "stdin",
     "output_type": "stream",
     "text": [
      "Enter Number of Fittings from Above :   \n"
     ]
    },
    {
     "name": "stdout",
     "output_type": "stream",
     "text": [
      "Fitting Losses [ft] =>>   0.0\n",
      "Straight Pipe Losses [ft] =>>   <function Hf_major at 0x0000019633547670>\n"
     ]
    },
    {
     "name": "stdin",
     "output_type": "stream",
     "text": [
      "Enter Additional dP losses? If so, enter total dP [ft] <<=   \n"
     ]
    },
    {
     "name": "stdout",
     "output_type": "stream",
     "text": [
      "Head loss from other components =>>   0.0\n",
      "Total Pressure Drop in Feet =>>   30420.30909360075\n",
      "Flow Rate [GPM] =>>   12000.0\n"
     ]
    }
   ],
   "source": [
    "fitting_num=np.zeros(20)\n",
    "fitting_k=np.zeros(20)\n",
    "fittings=['90° Elbows - Short Radius','90° Elbows - Long Radius','Butterfly Valves','Reducers','Expansions','Balancing Valves','Tees - Line Flow','Tees - Branch Flow','45° Elbow','Other']\n",
    "for idx, word in enumerate(fittings):\n",
    "    print(word)\n",
    "    fitting_num[idx]=(input('Enter Number of Fittings from Above :  ') or 0)\n",
    "    if fitting_num[idx]!=0:\n",
    "        fitting_k[idx]=(input('Enter K-Factor for Fitting :  ') or 0)\n",
    "\t\t\n",
    "\t\t\n",
    "K_total=fitting_num*fitting_k\n",
    "K_sumTotal=K_total.sum()\n",
    "Hf_minor=K_sumTotal*((V**2)/(2*32.2))\n",
    "\n",
    "\n",
    "print('Fitting Losses [ft] =>>  ',Hf_minor)\n",
    "print('Straight Pipe Losses [ft] =>>  ',Hf_major)\n",
    "\n",
    "other_new=1\n",
    "other=0\n",
    "while other_new!=0:\n",
    "    other1=other\n",
    "    other_new=float(input('Enter Additional dP losses? If so, enter total dP [ft] <<=  ') or 0)\n",
    "    other=other1+other_new\n",
    "Hf_other=other\n",
    "print('Head loss from other components =>>  ', Hf_other)\n",
    "\n",
    "dp_ft=Hf_minor+dP_major+Hf_other\n",
    "print('Total Pressure Drop in Feet =>>  ', dp_ft)\n",
    "print('Flow Rate [GPM] =>>  ', Q)"
   ]
  },
  {
   "cell_type": "code",
   "execution_count": null,
   "id": "0d835eb4-6fe1-40c5-bba7-669209e80160",
   "metadata": {},
   "outputs": [],
   "source": []
  }
 ],
 "metadata": {
  "kernelspec": {
   "display_name": "Python 3 (ipykernel)",
   "language": "python",
   "name": "python3"
  },
  "language_info": {
   "codemirror_mode": {
    "name": "ipython",
    "version": 3
   },
   "file_extension": ".py",
   "mimetype": "text/x-python",
   "name": "python",
   "nbconvert_exporter": "python",
   "pygments_lexer": "ipython3",
   "version": "3.9.7"
  }
 },
 "nbformat": 4,
 "nbformat_minor": 5
}
